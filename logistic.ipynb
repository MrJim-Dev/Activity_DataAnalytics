import pandas as pd
import plotly.express as px
import plotly.graph_objects as go
from sklearn.model_selection import train_test_split
from sklearn.linear_model import LogisticRegression
from sklearn.metrics import confusion_matrix, roc_curve, roc_auc_score
from sklearn.preprocessing import LabelEncoder
import numpy as np

# Load dataset
data = pd.read_csv('path_to_your_dataset.csv')  # Update with your dataset path

# Exploratory Data Analysis
# Histograms for numerical variables
fig1 = px.histogram(data, x='ApplicantIncome')
fig1.show()

fig2 = px.histogram(data, x='CoapplicantIncome')
fig2.show()

fig3 = px.histogram(data, x='LoanAmount')
fig3.show()

# Bar charts for categorical variables
fig4 = px.bar(data, x='Gender')
fig4.show()

fig5 = px.bar(data, x='Married')
fig5.show()

# Scatter plot
fig6 = px.scatter(data, x='ApplicantIncome', y='LoanAmount')
fig6.show()

# Heatmap for correlation
corr = data.corr()
fig7 = go.Figure(data=go.Heatmap(
                   z=corr,
                   x=corr.columns,
                   y=corr.columns))
fig7.show()

# Logistic Regression Analysis
# Preprocessing
data = data.dropna()  # Handling missing values
le = LabelEncoder()
for col in data.select_dtypes(include=['object']).columns:
    data[col] = le.fit_transform(data[col])

# Splitting the dataset
X = data.drop('Loan_Status', axis=1)
y = data['Loan_Status']
X_train, X_test, y_train, y_test = train_test_split(X, y, test_size=0.2, random_state=42)

# Training the model
model = LogisticRegression()
model.fit(X_train, y_train)

# Predictions
y_pred = model.predict(X_test)

# Confusion Matrix
cm = confusion_matrix(y_test, y_pred)
fig8 = px.imshow(cm, text_auto=True)
fig8.show()

# ROC Curve
y_pred_proba = model.predict_proba(X_test)[::,1]
fpr, tpr, _ = roc_curve(y_test,  y_pred_proba)
auc = roc_auc_score(y_test, y_pred_proba)
fig9 = px.area(
    x=fpr, y=tpr,
    title=f'ROC Curve (AUC={auc:.2f})',
    labels=dict(x='False Positive Rate', y='True Positive Rate'),
    width=700, height=500
)
fig9.add_shape(
    type='line', line=dict(dash='dash'),
    x0=0, x1=1, y0=0, y1=1
)
fig9.show()
